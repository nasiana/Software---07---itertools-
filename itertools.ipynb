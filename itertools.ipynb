{
 "cells": [
  {
   "cell_type": "code",
   "execution_count": 2,
   "metadata": {},
   "outputs": [],
   "source": [
    "import itertools"
   ]
  },
  {
   "cell_type": "markdown",
   "metadata": {},
   "source": [
    "## INFINITE ITERATORS"
   ]
  },
  {
   "cell_type": "markdown",
   "metadata": {},
   "source": [
    "It is not necessary that an iterator object has to exhaust, sometimes it can be infinite. Such types of iterators are known as Infinite iterators.\n",
    "\n",
    "In other words, if you use any of the infinite iterators, your loop will continue forever unless you specify a stopping criteria. \n",
    "\n",
    "There are only 3 functions:\n",
    "\n",
    "```\n",
    "count()\n",
    "cycle()\n",
    "repeat()\n",
    "```"
   ]
  },
  {
   "cell_type": "code",
   "execution_count": null,
   "metadata": {},
   "outputs": [],
   "source": [
    "# 1. Count: This function takes two optional arguments and returns an iterator.\n",
    "# print the first four even numbers\n",
    "\n",
    "result = itertools.count(start=0, step=2)\n",
    "\n",
    "for number in result:\n",
    "\n",
    "    if number < 8:\n",
    "        print(number)\n",
    "    else:\n",
    "        break"
   ]
  },
  {
   "cell_type": "code",
   "execution_count": null,
   "metadata": {},
   "outputs": [],
   "source": [
    "# 2. Cycle: This function takes in an iterable and goes over it indefinitely​.\n",
    "# print 2 three times\n",
    "\n",
    "result = itertools.cycle('12345')\n",
    "counter = 0\n",
    "\n",
    "for number in result:\n",
    "    if counter < 10:\n",
    "        print(number)\n",
    "        counter = counter + 1\n",
    "    else:\n",
    "        break"
   ]
  },
  {
   "cell_type": "code",
   "execution_count": null,
   "metadata": {},
   "outputs": [],
   "source": [
    "###################################\n",
    "# 3. Repeat: Takes an optional times parameter that can be used as a termination condition.\n",
    "# print CodeFirstGirls two times\n",
    "\n",
    "#In repeat(), the memory space is not created for every variable. Rather it creates \n",
    "# only one variable and repeats the same variable.\n",
    "\n",
    "result = itertools.repeat('CodeFirstGirls', times=2)\n",
    "\n",
    "for word in result:\n",
    "    print(word)"
   ]
  },
  {
   "cell_type": "markdown",
   "metadata": {},
   "source": [
    "## TERMINATING ITERATORS"
   ]
  },
  {
   "cell_type": "markdown",
   "metadata": {},
   "source": [
    "Allows us to perform common pre-processing on the collection of items we loop over. \n",
    "\n",
    "```\n",
    "accumulate()\n",
    "chain()\n",
    "chain.from_iterable()\n",
    "compress()\n",
    "dropwhile()\n",
    "filterfalse()\n",
    "groupby()\n",
    "islice()\n",
    "starmap()\n",
    "takewhile()\n",
    "tee()\n",
    "zip_longest()\n",
    "```"
   ]
  },
  {
   "cell_type": "code",
   "execution_count": 7,
   "metadata": {},
   "outputs": [
    {
     "name": "stdout",
     "output_type": "stream",
     "text": [
      "a\n",
      "b\n",
      "c\n",
      "d\n",
      "e\n",
      "f\n",
      "1\n",
      "2\n",
      "3\n"
     ]
    }
   ],
   "source": [
    "# 4. Chain: This function accepts a variable number of iterables and loops through all of them, one by one.\n",
    "# iterate over three lists\n",
    "\n",
    "list_one = ['a', 'b', 'c']\n",
    "list_two = ['d', 'e', 'f']\n",
    "list_three = ['1', '2', '3']\n",
    "\n",
    "result = itertools.chain(list_one, list_two, list_three)\n",
    "\n",
    "for element in result:\n",
    "    print(element)"
   ]
  },
  {
   "cell_type": "code",
   "execution_count": 8,
   "metadata": {},
   "outputs": [
    {
     "name": "stdout",
     "output_type": "stream",
     "text": [
      "Alice\n",
      "Raja\n"
     ]
    }
   ],
   "source": [
    "# 5. Compress: This function takes in an iterable and a selector,\n",
    "# and returns an iterable with only those items for which the corresponding selector value is true.\n",
    "\n",
    "# find the names of people who have the flu\n",
    "\n",
    "names = ['Alice', 'Raja', 'Fatima']\n",
    "have_flu = [True, True, False]\n",
    "\n",
    "result = itertools.compress(names, have_flu)\n",
    "\n",
    "for element in result:\n",
    "    print(element)"
   ]
  },
  {
   "cell_type": "code",
   "execution_count": 12,
   "metadata": {},
   "outputs": [
    {
     "name": "stdout",
     "output_type": "stream",
     "text": [
      "[-8, -4, 2]\n"
     ]
    }
   ],
   "source": [
    "# 6. DropWhile: An iterable and a function (predefined or lambda) is passed to it.\n",
    "# Based on the condition inside the function, dropwhile keeps on dropping values from the iterable\n",
    "# until it encounters the first element that evaluates to false.\n",
    "\n",
    "# Function to be passed\n",
    "# as an argument\n",
    "def is_positive(n):\n",
    "    return n > 0 \n",
    "  \n",
    "value_list =[5, 6, -8, -4, 2]\n",
    "result = list(itertools.dropwhile(is_positive, value_list)) \n",
    "   \n",
    "print(result) "
   ]
  },
  {
   "cell_type": "code",
   "execution_count": 13,
   "metadata": {},
   "outputs": [
    {
     "name": "stdout",
     "output_type": "stream",
     "text": [
      "['d', 'e', 'F']\n"
     ]
    }
   ],
   "source": [
    "# 8. iSlice: works much the same way as slicing a list or tuple.\n",
    "# You pass it an iterable, a starting, and stopping point, and, just like slicing a list,\n",
    "# the slice returned stops at the index just before the stopping point.\n",
    "\n",
    "# Slice from index 2 to 4\n",
    "result = itertools.islice('CodeFirstGirls', 2, 5)\n",
    "print(list(result))"
   ]
  },
  {
   "cell_type": "code",
   "execution_count": null,
   "metadata": {},
   "outputs": [],
   "source": [
    "# 9. GroupBy: groups objects in an iterable.\n",
    "    # we have not covered lambda yet so don't worry about this example for now\n",
    "for key, grp in itertools.groupby([1, 1, 2, 2, 2, 3]):\n",
    "    print('{}: {}'.format(key, list(grp)))\n",
    "\n",
    "# group people by their age\n",
    "\n",
    "data = [{'name': 'Soujanya', 'age': 20},\n",
    "        {'name': 'Elena', 'age': 19},\n",
    "        {'name': 'Betsy', 'age': 19},\n",
    "        {'name': 'Ling', 'age': 23}]\n",
    "\n",
    "grouped_data = itertools.groupby(data, key=lambda x: x['age'])\n",
    "\n",
    "for key, grp in grouped_data:\n",
    "    print('{}: {}'.format(key, list(grp)))"
   ]
  },
  {
   "cell_type": "code",
   "execution_count": 14,
   "metadata": {},
   "outputs": [
    {
     "name": "stdout",
     "output_type": "stream",
     "text": [
      "[1, 2, 3, 4, 5]\n",
      "[]\n",
      "[1, 2, 3, 4, 5]\n"
     ]
    }
   ],
   "source": [
    "# 10. Tee: used to create any number of independent iterators from a single iterable.\n",
    "\n",
    "iterator1, iterator2 = itertools.tee([1, 2, 3, 4, 5], 2)\n",
    "print(list(iterator1))\n",
    "\n",
    "# print again to see that iterator1 is now exhausted\n",
    "print(list(iterator1))\n",
    "\n",
    "# iterator2 works independently of iterator1\n",
    "print(list(iterator2))"
   ]
  },
  {
   "cell_type": "code",
   "execution_count": null,
   "metadata": {},
   "outputs": [],
   "source": [
    "# 11. Zip Longest: advanced zip elements function\n",
    "\n",
    "x = [1, 2, 3, 4, 5]\n",
    "y = ['a', 'b', 'c']\n",
    "\n",
    "# we lose elements from x, as we can only have 3 matches with y\n",
    "print(list(zip(x, y)))\n",
    "\n",
    "# zip_longest allows all items\n",
    "print(list(itertools.zip_longest(x, y)))\n",
    "\n",
    "\n",
    "# create our own grouper utility function\n",
    "\n",
    "def grouper(inputs, n, fill_value=None):\n",
    "    iters = [iter(inputs)] * n\n",
    "    return itertools.zip_longest(*iters, fillvalue=fill_value)\n",
    "\n",
    "\n",
    "nums = [1, 2, 3, 4, 5, 6, 7, 8, 9, 10]\n",
    "result = list(grouper(nums, 4))\n",
    "\n",
    "print(result)"
   ]
  },
  {
   "cell_type": "markdown",
   "metadata": {},
   "source": [
    "## COMBINATORIC ITERATORS"
   ]
  },
  {
   "cell_type": "markdown",
   "metadata": {},
   "source": [
    "It allows us to perform calculations involving combinations and permutations from a set. \n",
    "\n",
    "```\n",
    "product()\n",
    "permutation()\n",
    "combinations()\n",
    "combinations_with_replacement()\n",
    "```"
   ]
  },
  {
   "cell_type": "code",
   "execution_count": null,
   "metadata": {},
   "outputs": [],
   "source": [
    "# 7. Product: iterate over the Cartesian product of a list of iterables\n",
    "\n",
    "a = [1, 2, 3, 4]\n",
    "b = ['a', 'b', 'c']\n",
    "\n",
    "result = itertools.product(a, b)\n",
    "print(result)\n",
    "\n",
    "for i in result:\n",
    "    print(i)"
   ]
  },
  {
   "cell_type": "code",
   "execution_count": null,
   "metadata": {},
   "outputs": [],
   "source": [
    "# 12. Permutation: all the possible combinations in which a set or string can be ordered or arranged.\n",
    "\n",
    "word = 'CFG'\n",
    "\n",
    "# no length entered so default length\n",
    "# taken as 3(the length of string CFG)\n",
    "result = itertools.permutations(word)\n",
    "\n",
    "for p in list(result):\n",
    "    print(p)"
   ]
  }
 ],
 "metadata": {
  "interpreter": {
   "hash": "40d3a090f54c6569ab1632332b64b2c03c39dcf918b08424e98f38b5ae0af88f"
  },
  "kernelspec": {
   "display_name": "Python 3.8.8 64-bit ('base': conda)",
   "name": "python3"
  },
  "language_info": {
   "codemirror_mode": {
    "name": "ipython",
    "version": 3
   },
   "file_extension": ".py",
   "mimetype": "text/x-python",
   "name": "python",
   "nbconvert_exporter": "python",
   "pygments_lexer": "ipython3",
   "version": "3.8.8"
  },
  "orig_nbformat": 4
 },
 "nbformat": 4,
 "nbformat_minor": 2
}
